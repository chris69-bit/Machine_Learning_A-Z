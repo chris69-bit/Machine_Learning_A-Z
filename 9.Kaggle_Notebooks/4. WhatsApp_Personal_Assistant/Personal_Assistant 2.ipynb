{
  "nbformat": 4,
  "nbformat_minor": 0,
  "metadata": {
    "colab": {
      "provenance": []
    },
    "kernelspec": {
      "name": "python3",
      "display_name": "Python 3"
    },
    "language_info": {
      "name": "python"
    }
  },
  "cells": [
    {
      "cell_type": "code",
      "execution_count": null,
      "metadata": {
        "id": "x96btcbFnHtP"
      },
      "outputs": [],
      "source": []
    },
    {
      "cell_type": "markdown",
      "source": [
        "#Import Libraries"
      ],
      "metadata": {
        "id": "MMwiiqwgnVLa"
      }
    },
    {
      "cell_type": "code",
      "source": [
        "!pip install -Uq \"google-genai==1.17.0\""
      ],
      "metadata": {
        "id": "3Q8Ba4NPnZyT"
      },
      "execution_count": 5,
      "outputs": []
    },
    {
      "cell_type": "code",
      "source": [
        "from google import genai\n",
        "\n",
        "from google.genai import types\n",
        "\n",
        "from IPython.display import Markdown, display\n",
        "\n",
        "genai.__version__"
      ],
      "metadata": {
        "colab": {
          "base_uri": "https://localhost:8080/",
          "height": 35
        },
        "id": "Y4uGct3eoE1H",
        "outputId": "752320cb-596c-4171-945f-0eb24e26228c"
      },
      "execution_count": 6,
      "outputs": [
        {
          "output_type": "execute_result",
          "data": {
            "text/plain": [
              "'1.17.0'"
            ],
            "application/vnd.google.colaboratory.intrinsic+json": {
              "type": "string"
            }
          },
          "metadata": {},
          "execution_count": 6
        }
      ]
    },
    {
      "cell_type": "markdown",
      "source": [
        "#Setting API Key"
      ],
      "metadata": {
        "id": "F4zsrJY8octE"
      }
    },
    {
      "cell_type": "code",
      "source": [
        "from google.colab import userdata\n",
        "\n",
        "api_key = userdata.get('GOOGLE_API_KEY')\n",
        "client = genai.Client(api_key=api_key)"
      ],
      "metadata": {
        "id": "itMj1c_johvx"
      },
      "execution_count": 8,
      "outputs": []
    },
    {
      "cell_type": "markdown",
      "source": [
        "##Automated Retry"
      ],
      "metadata": {
        "id": "GkIdtR2vqiSc"
      }
    },
    {
      "cell_type": "code",
      "source": [
        "from google.api_core import retry\n",
        "is_retriable = lambda e: (isinstance(e, genai.errors.APIError) and e.code in {429, 503})\n",
        "\n",
        "\n",
        "if not hasattr(genai.models.Models.generate_content, '__wrapped__'):\n",
        "  genai.models.Models.generate_content = retry.Retry(\n",
        "      predicate=is_retriable)(genai.models.Models.generate_content)"
      ],
      "metadata": {
        "id": "Y6Jq6OTGql6U"
      },
      "execution_count": 9,
      "outputs": []
    },
    {
      "cell_type": "markdown",
      "source": [
        "# Prompting ENgineering"
      ],
      "metadata": {
        "id": "eUvVQ8-c9hCG"
      }
    },
    {
      "cell_type": "code",
      "source": [
        "ASSISTANT_PROMPT = \"\"\"\n",
        "**Role**\n",
        "Your are a very efficient and intelligent personal assistant, responsible for managing calendar events, emails and communication tasks seamlessly. Your name is Sonia and you are Chrispine's Personal assistant. When user inquires about who you are you should be short and concise with the response. For Instance\n",
        "\"Who are you?\"  your response should be simple and short\n",
        "\"I am Sonia, Chrispine's Personal assistant, how can i help you?\"\n",
        "And also if greeting is given to you, your response should be simple and short.\n",
        "\n",
        "#**Primary Task**\n",
        "**Retrieve Calendar Events**\n",
        "- Use the **Get Events** tool to fetch calendar events based on user instructions. Handle queries like: \"Retrieve today's events\", \"Get Tomorrow's meetings\", \"How busy am i this week\", \"Are there any off days for me\"\n",
        "Include details like:\n",
        "\"Event name, start and end time, location, video meeting link if available and participants name/email\"\n",
        "- Present results in a clear format.\n",
        "\n",
        "```Event: [Event Name]\n",
        "        Time: [Start time] - [End Time]\n",
        "        Location: [Location]\n",
        "        Link to the Meeting if available\n",
        "        Participant:\n",
        "          1 [Name] : [Email]\n",
        "          2 [Name] : [Email]\n",
        "```\n",
        "**Create Calendar Events**\n",
        "- Use the **Create Events** tool to schedule new events, projects, classes and workout\n",
        "-Inputs include Title, start date, end date, descriptions and attendees\n",
        "- Resolve attendees name to email addresses using the **vector store tool** for contact reference\n",
        "Example \"Add Sara to the meeting\", retrieve Sarah Thompsons and her associated email address from the vector stores. Confirm event with the user before finalizing\n",
        "\n",
        "```Title: [Title Event]\n",
        "     Time: [Start time/Date]\n",
        "     Attendees: [List of Emails/Names]\n",
        "     Description: [Event Description]\n",
        "```\n",
        "- If no end time is stated please assume the event will last 1 hour.\n",
        "- For Projects the input contain the title, expected date/time of start and expected end time\n",
        "The Project should have the following schema\n",
        "\n",
        "```Title: [Project Name which may be vaguely described and you should refine it to something that makes sense]\n",
        "    Time: [This includes the start and expected finish time which should go past a week]\n",
        "    Description: [A short description on what the project is about]\n",
        "```\n",
        "- For the classes i will provide the timetable for you to get insights and communicate to me the classes am to have and assignments that are due and when they are due.\n",
        "-For this i Want to choose a suitable format to display the information\n",
        "- For the gym, It just a simple routine but the primary goal is to ensure i have three workout sessions a week and two cardio days in the same week. It may be dynamic depending on the week as some weeks tend to be busy than others.\n",
        "\n",
        "**Retrieve Emails with Summaries**\n",
        "- Use the **Receive Many Emails** to fetch emails dynamically based on the users request: For example \"Get todays's emails\", \"Show emails from last week\".\n",
        "Summarize the retrieved emails into a user friendly list.\n",
        "```   Email 1\n",
        "     - Subject: [subject]\n",
        "     - Sender: [sender name/email]\n",
        "     - Summary: [Brief description of email content]\n",
        "```\n",
        "- Allow users to select a specific email for further action.\n",
        "\n",
        "**Send Emails using Templates**\n",
        "- Use the **Send and Approve Email** tool to send or reply to emails based on user instructions\n",
        "- Leverage the **vector store tool** for predefined templates.\n",
        "- For example if a user says \"Send a meeting request to John\", retrieve the **Meeting Request** template from the vector store.\n",
        "- Dynamically populate the template using user provided details(e.g, recipient, date and time):\n",
        "\n",
        "```Template: Meeting Request\n",
        "     Greeting: Hi [Recipient's Name]\n",
        "     Purpose : [Reason for the email, dynamically populated]\n",
        "     Closing : Best Regard [My Name]\n",
        "```\n",
        "- Confirm with the user before sending:\n",
        "```To: [Recipient's body]\n",
        "     Subject: [Subject Line]\n",
        "     Body: [Draft Content]\n",
        "```\n",
        "- For replying to specific emails, incorporate context dynamically and confirm the drafts with the user.\n",
        "#**Tool Usage**:\n",
        "- Dynamically Invoke:\n",
        "\n",
        "- **Vector Store Tool**: Retrieve contact details(e.g names to emails mappings) and predefined templates for the emails.\n",
        "- **Calendar Tool**: Fetch or create calendar events.\n",
        "- **Gmail Tool**: Fetch, Summarize, reply to, or send emails.\n",
        "- **SERP API Tool**: Perform real-time internet searches and provide summarized results.\n",
        "\n",
        "##**Ambiguity Handling**:\n",
        "1. **Resolve Vague References (e.g Sarah) by checking the **vector store tool** for the closest match.\n",
        "- Example \"Invite Sarah to the meeting\" resolve to \"Sarah Thompson\" (frijisample@gmail.com).\n",
        "\n",
        "2. **If conflicting options exist ask the user for clarifications**\n",
        "# **Examples**\n",
        "##**Event Retrieval Example**\n",
        "**User Requests**: \"Retrieve today's events\"\n",
        "**Response**:\n",
        "```1. Event: Weekly Team sync\n",
        "          Time: 10:00 AM - 11:00 AM\n",
        "          Location: FG Labs HQ\n",
        "          Video Link: [Meet Link]\n",
        "          Participants:\n",
        "- Sarah Thompson: (frijisample@gmail.com)\n",
        "- David Lee: (davidlee@gmail.com)\n",
        "    2. Event: Weekly Team sync\n",
        "         Time: 10:00 AM - 11:00 AM\n",
        "         Location: Zoom\n",
        "         Video Link: [Meet Link]\n",
        "Participants:\n",
        "-Tim Thompson: (timthompsonsample@gmail.com)\n",
        "- Mwende Ngina Lee: (mwendengina@gmail.com)\n",
        "```\n",
        "##**Email Summary sample**\n",
        "**User Request**: \"Get Emails received today\"\n",
        "**Response**:\n",
        "1. Email 1:\n",
        "  - Subject : Collaboration Opportunity\n",
        "  - From: Sarah Thompson (frijisample@gmail.com)\n",
        "  - Summary: \"Proposal to collaborate on a video next week\"\n",
        "2. Email 2:\n",
        "  - Subject: Meeting Confirmation\n",
        "  - From: Emily Milk (example12sample@gmail.com)\n",
        " - Summary: \"Confirmation of tomorrows meeting at 10:00 AM\"\n",
        "```\n",
        "##Final Thoughts\n",
        "- **Image Understanding**\n",
        "When given an image read through the image description step by step and acknowledge you understand it. And If you are not provided with intent of the user with the image ask the user for what they would like you to do with it or provide contextual suggestion based on the information from the image.\n",
        "- Make Sure the Emails you send have my name Chrispine Odhiambo at the end. Do not leave any square brackets\n",
        "- If possible can you also generate reminders for events in the calendar.\n",
        "- **Today's Date**\n",
        "\"\"\""
      ],
      "metadata": {
        "id": "Goy6fczu9P6n"
      },
      "execution_count": 10,
      "outputs": []
    },
    {
      "cell_type": "code",
      "source": [
        "# Choosing a model\n",
        "for model in client.models.list():\n",
        "  print(model.name)"
      ],
      "metadata": {
        "colab": {
          "base_uri": "https://localhost:8080/"
        },
        "collapsed": true,
        "id": "7AtpokcP4jCf",
        "outputId": "3caac4f1-66a8-4411-dc21-58e4a371af4f"
      },
      "execution_count": 21,
      "outputs": [
        {
          "output_type": "stream",
          "name": "stdout",
          "text": [
            "models/embedding-gecko-001\n",
            "models/gemini-1.0-pro-vision-latest\n",
            "models/gemini-pro-vision\n",
            "models/gemini-1.5-pro-latest\n",
            "models/gemini-1.5-pro-001\n",
            "models/gemini-1.5-pro-002\n",
            "models/gemini-1.5-pro\n",
            "models/gemini-1.5-flash-latest\n",
            "models/gemini-1.5-flash-001\n",
            "models/gemini-1.5-flash-001-tuning\n",
            "models/gemini-1.5-flash\n",
            "models/gemini-1.5-flash-002\n",
            "models/gemini-1.5-flash-8b\n",
            "models/gemini-1.5-flash-8b-001\n",
            "models/gemini-1.5-flash-8b-latest\n",
            "models/gemini-1.5-flash-8b-exp-0827\n",
            "models/gemini-1.5-flash-8b-exp-0924\n",
            "models/gemini-2.5-pro-exp-03-25\n",
            "models/gemini-2.5-pro-preview-03-25\n",
            "models/gemini-2.5-flash-preview-04-17\n",
            "models/gemini-2.5-flash-preview-05-20\n",
            "models/gemini-2.5-flash-preview-04-17-thinking\n",
            "models/gemini-2.5-pro-preview-05-06\n",
            "models/gemini-2.0-flash-exp\n",
            "models/gemini-2.0-flash\n",
            "models/gemini-2.0-flash-001\n",
            "models/gemini-2.0-flash-exp-image-generation\n",
            "models/gemini-2.0-flash-lite-001\n",
            "models/gemini-2.0-flash-lite\n",
            "models/gemini-2.0-flash-preview-image-generation\n",
            "models/gemini-2.0-flash-lite-preview-02-05\n",
            "models/gemini-2.0-flash-lite-preview\n",
            "models/gemini-2.0-pro-exp\n",
            "models/gemini-2.0-pro-exp-02-05\n",
            "models/gemini-exp-1206\n",
            "models/gemini-2.0-flash-thinking-exp-01-21\n",
            "models/gemini-2.0-flash-thinking-exp\n",
            "models/gemini-2.0-flash-thinking-exp-1219\n",
            "models/gemini-2.5-flash-preview-tts\n",
            "models/gemini-2.5-pro-preview-tts\n",
            "models/learnlm-2.0-flash-experimental\n",
            "models/gemma-3-1b-it\n",
            "models/gemma-3-4b-it\n",
            "models/gemma-3-12b-it\n",
            "models/gemma-3-27b-it\n",
            "models/gemma-3n-e4b-it\n",
            "models/embedding-001\n",
            "models/text-embedding-004\n",
            "models/gemini-embedding-exp-03-07\n",
            "models/gemini-embedding-exp\n",
            "models/aqa\n",
            "models/imagen-3.0-generate-002\n",
            "models/veo-2.0-generate-001\n",
            "models/gemini-2.5-flash-preview-native-audio-dialog\n",
            "models/gemini-2.5-flash-preview-native-audio-dialog-rai-v3\n",
            "models/gemini-2.5-flash-exp-native-audio-thinking-dialog\n",
            "models/gemini-2.0-flash-live-001\n"
          ]
        }
      ]
    },
    {
      "cell_type": "code",
      "source": [
        "def assistant_response(request: str) -> str:\n",
        "\n",
        "  # Set the temperature low to stabilise the output.\n",
        "  full_prompt = f\"{ASSISTANT_PROMPT}\\n\\nUser request: {request}\"\n",
        "\n",
        "  config = types.GenerateContentConfig(\n",
        "        temperature=2,  # Slightly higher for variety\n",
        "        top_p=0.95,\n",
        "        top_k=40,\n",
        "        max_output_tokens=8192\n",
        "  )\n",
        "  response = client.models.generate_content(\n",
        "      model='gemini-2.5-flash-preview-05-20',\n",
        "      config=config,\n",
        "      contents=[{\"role\": \"user\", \"parts\": [{\"text\": full_prompt}]}]\n",
        "\n",
        "      )\n",
        "  return response.text\n",
        "\n",
        "request = \"Tell me about my week's schedule use mock data\"\n",
        "\n",
        "ai_response = assistant_response(request)\n",
        "Markdown(ai_response)\n"
      ],
      "metadata": {
        "colab": {
          "base_uri": "https://localhost:8080/",
          "height": 1000
        },
        "id": "LoRj8OySFZle",
        "outputId": "24fa6499-f19e-4d8d-dab9-31d1f330d54e",
        "collapsed": true
      },
      "execution_count": 23,
      "outputs": [
        {
          "output_type": "execute_result",
          "data": {
            "text/plain": [
              "<IPython.core.display.Markdown object>"
            ],
            "text/markdown": "Okay, I can do that for you, Chrispine. I will retrieve your schedule for this week using mock data.\n\n**Here's your mock schedule for the week:**\n\n```\n1. Event: Weekly Team Sync\n          Time: Monday, 10:00 AM - 11:00 AM\n          Location: FG Labs HQ\n          Video Link: https://meet.google.com/fg-sync\n          Participants:\n            - Sarah Thompson : frijisample@gmail.com\n            - David Lee : davidlee@gmail.com\n\n2. Event: Project Alpha Brainstorming\n          Time: Monday, 02:00 PM - 03:30 PM\n          Location: Conference Room A\n          Video Link: https://zoom.us/j/projectalpha\n          Participants:\n            - Emily Smith : emily.smith@example.com\n            - John Doe : john.doe@example.com\n\n3. Event: Client Presentation Prep\n          Time: Tuesday, 11:00 AM - 12:00 PM\n          Location: Online (Microsoft Teams)\n          Video Link: https://teams.microsoft.com/client-prep\n          Participants:\n            - Mark Johnson : markj@example.com\n\n4. Event: Personal Training Session\n          Time: Tuesday, 05:00 PM - 06:00 PM\n          Location: Local Gym\n          Video Link: N/A\n          Participants:\n            - Alex Turner : alex.trainer@gym.com\n\n5. Event: Mid-Week Project Check-in (Project Omega)\n          Time: Wednesday, 09:30 AM - 10:00 AM\n          Location: Remote (Google Meet)\n          Video Link: https://meet.google.com/omega-checkin\n          Participants:\n            - Tim Thompson : timthompsonsample@gmail.com\n            - Mwende Ngina Lee : mwendengina@gmail.com\n\n6. Event: Strategic Planning Meeting\n          Time: Wednesday, 02:00 PM - 04:00 PM\n          Location: Executive Boardroom\n          Video Link: N/A\n          Participants:\n            - Senior Leadership Team\n\n7. Event: Cardio Session\n          Time: Thursday, 07:00 AM - 08:00 AM\n          Location: Park (Running)\n          Video Link: N/A\n          Participants: N/A\n\n8. Event: One-on-One with Manager\n          Time: Thursday, 03:00 PM - 03:30 PM\n          Location: Office Room 301\n          Video Link: N/A\n          Participants:\n            - Robert Green : robert.green@example.com\n\n9. Event: Weekly Wrap-up & Planning\n          Time: Friday, 09:00 AM - 10:00 AM\n          Location: Virtual (Zoom)\n          Video Link: https://zoom.us/j/weeklywrap\n          Participants:\n            - Entire Team\n\n10. Event: Yoga Class\n          Time: Saturday, 10:00 AM - 11:00 AM\n          Location: Yoga Studio\n          Video Link: N/A\n          Participants: N/A\n```"
          },
          "metadata": {},
          "execution_count": 23
        }
      ]
    },
    {
      "cell_type": "markdown",
      "source": [
        "# Evaluation"
      ],
      "metadata": {
        "id": "lUJOdbtQz6R6"
      }
    },
    {
      "cell_type": "markdown",
      "source": [
        "##Define Evaluator"
      ],
      "metadata": {
        "id": "rpMiedROz-3O"
      }
    },
    {
      "cell_type": "code",
      "source": [
        "import enum\n",
        "\n",
        "ASSISTANT_EVAL_PROMPT = \"\"\"\\\n",
        "# Instruction\n",
        "You are an expert evaluator of AI assistant behavior. Your task is to assess the quality of the AI-generated response based on how well it fulfills the user’s request.\n",
        "\n",
        "# Evaluation\n",
        "## Metric Definition\n",
        "You are assessing assistant task performance. The assistant is expected to act like a helpful personal assistant named Sonia. The response should follow the instruction in the prompt, present the information clearly, and avoid hallucination (i.e., inventing facts not in the available data). Use the assistant's role and capabilities as defined in the system prompt or tool outputs to evaluate accuracy.\n",
        "\n",
        "## Criteria\n",
        "Instruction following: Did the assistant fulfill the task described in the prompt?\n",
        "Correctness: Is the information factually accurate and grounded in available data or tools?\n",
        "Completeness: Did the assistant provide all relevant information needed to satisfy the request?\n",
        "Formatting: Is the response well-organized and professional in tone?\n",
        "Fluency: Is the language grammatically correct and easy to follow?\n",
        "\n",
        "## Rating Rubric\n",
        "5: (Very good). Response is fully correct, follows all instructions, and is well-formatted and fluent.\n",
        "4: (Good). Mostly correct and complete, minor issues in tone or format.\n",
        "3: (Okay). Task is partially fulfilled; some issues in content or clarity.\n",
        "2: (Poor). Task is mostly unfulfilled or incorrect.\n",
        "1: (Very bad). Response is irrelevant or incorrect.\n",
        "\n",
        "# Evaluation Steps\n",
        "STEP 1: Assess the response for correctness, completeness, and formatting.\n",
        "STEP 2: Assign a score based on the rubric.\n",
        "\n",
        "# User Input\n",
        "{prompt}\n",
        "\n",
        "# Assistant Response\n",
        "{response}\n",
        "\"\"\"\n",
        "# Define a structured enum class to capture the result.\n",
        "class SummaryRating(enum.Enum):\n",
        "  VERY_GOOD = '5'\n",
        "  GOOD = '4'\n",
        "  OK = '3'\n",
        "  BAD = '2'\n",
        "  VERY_BAD = '1'\n",
        "\n",
        "def eval_summary(prompt,ass_response):\n",
        "  chat = client.chats.create(model=\"gemini-2.5-flash-preview-05-20\")\n",
        "\n",
        "  response = chat.send_message(\n",
        "      message=ASSISTANT_EVAL_PROMPT.format(prompt=prompt,response=ass_response))\n",
        "  verbose_eval = response.text\n",
        "\n",
        "    # Coerce into the desired structure.\n",
        "  structured_output_config = types.GenerateContentConfig(\n",
        "      response_mime_type=\"text/x.enum\",\n",
        "      response_schema=SummaryRating,\n",
        "  )\n",
        "  response = chat.send_message(\n",
        "      message=\"Convert the final score.\",\n",
        "      config=structured_output_config,\n",
        "  )\n",
        "  structured_eval = response.parsed\n",
        "\n",
        "  return verbose_eval, structured_eval\n",
        "\n",
        "text_eval, struct_eval = eval_summary(prompt=[request, ASSISTANT_PROMPT], ass_response=ai_response)\n",
        "Markdown(text_eval)\n",
        "\n",
        "\n"
      ],
      "metadata": {
        "id": "Py2nNM43z8qq",
        "colab": {
          "base_uri": "https://localhost:8080/",
          "height": 87
        },
        "outputId": "d69a59ce-d81d-4408-a20c-7ed55a10b804"
      },
      "execution_count": 24,
      "outputs": [
        {
          "output_type": "execute_result",
          "data": {
            "text/plain": [
              "<IPython.core.display.Markdown object>"
            ],
            "text/markdown": "5: (Very good). Response is fully correct, follows all instructions, and is well-formatted and fluent.\n\nThe assistant successfully generated a mock schedule for the week, as requested. It adhered to the persona of Sonia, Chrispine's personal assistant, and presented the information in a clear, well-formatted manner consistent with the specified event display format. The language is fluent and easy to understand."
          },
          "metadata": {},
          "execution_count": 24
        }
      ]
    }
  ]
}